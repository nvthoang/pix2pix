{
 "cells": [
  {
   "cell_type": "code",
   "execution_count": 1,
   "id": "96d19551",
   "metadata": {},
   "outputs": [],
   "source": [
    "import numpy as np\n",
    "import torch\n",
    "import torch.nn as nn\n",
    "from torch.utils.data import DataLoader\n",
    "from torch.autograd import Variable\n",
    "import rasterio\n",
    "import cv2\n",
    "from PIL import Image\n",
    "\n",
    "from dataset import VPCHM\n",
    "from models.generator import UnetGenerator\n",
    "from models.discriminator import Discriminator\n",
    "from utils import init_weights"
   ]
  },
  {
   "cell_type": "markdown",
   "id": "61792715",
   "metadata": {},
   "source": [
    "### Load dataset"
   ]
  },
  {
   "cell_type": "code",
   "execution_count": 2,
   "id": "03e4b559",
   "metadata": {},
   "outputs": [],
   "source": [
    "# input1_path=\"./data/input1\"\n",
    "# input2_path=\"./data/input2\"\n",
    "# input3_path=\"./data/input3\"\n",
    "# target_path=\"./data/target\"\n",
    "# input_path=[input1_path, input2_path, input3_path]"
   ]
  },
  {
   "cell_type": "code",
   "execution_count": 3,
   "id": "edb31f6c",
   "metadata": {},
   "outputs": [],
   "source": [
    "input1_path=\"./data/input_naip_2012\"\n",
    "input2_path=\"./data/input_naip_2014\"\n",
    "input3_path=\"./data/input_naip_2016\"\n",
    "target_path=\"./data/target_chm\"\n",
    "input_path=[input1_path, input2_path, input3_path]"
   ]
  },
  {
   "cell_type": "code",
   "execution_count": null,
   "id": "e7d5e5df",
   "metadata": {},
   "outputs": [
    {
     "name": "stderr",
     "output_type": "stream",
     "text": [
      "/home/hoang/anaconda3/envs/midas/lib/python3.10/site-packages/rasterio/__init__.py:277: NotGeoreferencedWarning: Dataset has no geotransform, gcps, or rpcs. The identity matrix will be returned.\n",
      "  dataset = DatasetReader(path, driver=driver, sharing=sharing, **kwargs)\n"
     ]
    }
   ],
   "source": [
    "train=VPCHM(input_path, target_path, partition='train', upscaling=110, padding_dim=(1200, 1200), output_dim=1024)\n",
    "val=VPCHM(input_path, target_path, partition='val', upscaling=110, padding_dim=(1200, 1200), output_dim=1024)\n",
    "test=VPCHM(input_path, target_path, partition='test', upscaling=110, padding_dim=(1200, 1200), output_dim=1024)"
   ]
  },
  {
   "cell_type": "code",
   "execution_count": 4,
   "id": "cfec9929",
   "metadata": {},
   "outputs": [],
   "source": [
    "batch_size=32"
   ]
  },
  {
   "cell_type": "code",
   "execution_count": 5,
   "id": "44258dbf",
   "metadata": {},
   "outputs": [],
   "source": [
    "train_dl = DataLoader(train, batch_size, shuffle=True)\n",
    "val_dl = DataLoader(val, batch_size)\n",
    "test_dl = DataLoader(test, batch_size)"
   ]
  },
  {
   "cell_type": "markdown",
   "id": "b75971b8",
   "metadata": {},
   "source": [
    "### Define generator-discriminator"
   ]
  },
  {
   "cell_type": "code",
   "execution_count": 6,
   "id": "62e81a6b",
   "metadata": {},
   "outputs": [],
   "source": [
    "device = torch.device('cuda' if torch.cuda.is_available() else 'cpu')"
   ]
  },
  {
   "cell_type": "code",
   "execution_count": 7,
   "id": "4c787e33",
   "metadata": {},
   "outputs": [
    {
     "name": "stdout",
     "output_type": "stream",
     "text": [
      "initialize network with normal\n"
     ]
    }
   ],
   "source": [
    "generator = UnetGenerator(3, 1, 64, use_dropout=False).cuda().float()\n",
    "init_weights(generator, 'normal', scaling=0.02)"
   ]
  },
  {
   "cell_type": "code",
   "execution_count": 8,
   "id": "5ea5c811",
   "metadata": {},
   "outputs": [],
   "source": [
    "discriminator=Discriminator(4, 64).cuda().float()"
   ]
  },
  {
   "cell_type": "markdown",
   "id": "db95af2b",
   "metadata": {},
   "source": [
    "### Loss function"
   ]
  },
  {
   "cell_type": "code",
   "execution_count": 9,
   "id": "3e6cccea",
   "metadata": {},
   "outputs": [],
   "source": [
    "adversarial_loss = nn.BCELoss() \n",
    "l1_loss = nn.L1Loss()\n",
    "\n",
    "def generator_loss(generated_image, target_img, G, real_target):\n",
    "    gen_loss = adversarial_loss(G, real_target)\n",
    "    l1_l = l1_loss(generated_image, target_img)\n",
    "    gen_total_loss = gen_loss + (100 * l1_l)\n",
    "    return gen_total_loss\n",
    "\n",
    "def discriminator_loss(output, label):\n",
    "    disc_loss = adversarial_loss(output, label)\n",
    "    return disc_loss"
   ]
  },
  {
   "cell_type": "markdown",
   "id": "5c95e784",
   "metadata": {},
   "source": [
    "### Training"
   ]
  },
  {
   "cell_type": "code",
   "execution_count": 10,
   "id": "603ad0a1",
   "metadata": {},
   "outputs": [],
   "source": [
    "num_epochs = 200\n",
    "model = [generator, discriminator]"
   ]
  },
  {
   "cell_type": "code",
   "execution_count": 11,
   "id": "0facc628",
   "metadata": {},
   "outputs": [],
   "source": [
    "import torch\n",
    "import torch.nn as nn\n",
    "from torch.autograd import Variable\n",
    "import numpy as np\n",
    "import time\n",
    "\n",
    "def training(model,\n",
    "             train_dl,\n",
    "             test_dl=None,\n",
    "             num_epochs:int=50,\n",
    "             lr:float=0.0001,\n",
    "             patch_dim:tuple=(30, 30)):\n",
    "    '''\n",
    "    model: list [generator, discriminator]\n",
    "    train_dl: data_loader for training set\n",
    "    test_ld: data_loader for val/test set\n",
    "    num_epochs: num of training epochs\n",
    "    patch_dim: dim of patch returned by discriminator\n",
    "    '''\n",
    "    generator, discriminator=model[0], model[1]\n",
    "    G_optimizer=torch.optim.Adam(generator.parameters(), lr=lr)\n",
    "    D_optimizer=torch.optim.Adam(discriminator.parameters(), lr=lr)\n",
    "    G_train_losses, D_train_losses = [], []\n",
    "    G_test_losses, D_test_losses = [], []\n",
    "    #===========================\n",
    "    #Training\n",
    "    for epoch in range(1, num_epochs+1): \n",
    "        generator.train()\n",
    "        discriminator.train()\n",
    "        G_train_loss=D_train_loss= 0.0\n",
    "        start=time.time()\n",
    "        num_batch=len(train_dl.dataset)\n",
    "        for input_img, target_img in train_dl:\n",
    "            D_optimizer.zero_grad()\n",
    "            input_img=input_img[:,:,:256,:256].to(device)\n",
    "            target_img=target_img[:,:,:256,:256].to(device)\n",
    "            #ground truth labels real and fake\n",
    "            real_target=Variable(torch.ones(input_img.size(0), 1, patch_dim[0], patch_dim[1]).to(device))\n",
    "            fake_target=Variable(torch.zeros(input_img.size(0), 1, patch_dim[0], patch_dim[1]).to(device))\n",
    "            #generator forward pass\n",
    "            generated_image=generator(input_img)\n",
    "            #train discriminator with fake/generated images\n",
    "            disc_inp_fake=torch.cat((input_img, generated_image), 1)\n",
    "            D_fake=discriminator(disc_inp_fake.detach())\n",
    "            D_fake_loss=discriminator_loss(D_fake, fake_target)\n",
    "            #train discriminator with real images\n",
    "            disc_inp_real=torch.cat((input_img, target_img), 1)\n",
    "            D_real=discriminator(disc_inp_real)\n",
    "            D_real_loss=discriminator_loss(D_real,  real_target)\n",
    "            #average discriminator loss\n",
    "            D_total_loss=(D_real_loss + D_fake_loss)/2\n",
    "            D_train_loss+=D_total_loss\n",
    "            #compute gradients and run optimizer step\n",
    "            D_total_loss.backward()\n",
    "            D_optimizer.step()\n",
    "            #train generator with real labels\n",
    "            G_optimizer.zero_grad()\n",
    "            fake_gen=torch.cat((input_img, generated_image), 1)\n",
    "            G=discriminator(fake_gen)\n",
    "            G_loss=generator_loss(generated_image, target_img, G, real_target)                                 \n",
    "            G_train_loss+=G_loss\n",
    "            #compute gradients and run optimizer step\n",
    "            G_loss.backward()\n",
    "            G_optimizer.step()\n",
    "        G_train_losses.append(G_train_loss.detach().cpu().numpy()/num_batch)\n",
    "        D_train_losses.append(D_train_loss.detach().cpu().numpy()/num_batch)\n",
    "        end=time.time()\n",
    "        print(f\"Epoch {epoch} - G loss: {G_loss/num_batch}, D loss: {D_total_loss/num_batch}, Time: {end-start}\")\n",
    "        #===========================\n",
    "        #Test/Validate\n",
    "        if test_dl!=None:\n",
    "            generator.eval()\n",
    "            discriminator.eval()\n",
    "            with torch.no_grad():\n",
    "                num_batch=len(test_dl.dataset)\n",
    "                G_test_loss=D_test_loss=0.0\n",
    "                for input_img, target_img in test_dl:\n",
    "                    input_img=input_img[:,:,:256,:256].to(device)\n",
    "                    target_img=target_img[:,:,:256,:256].to(device)\n",
    "                    #ground truth labels real and fake\n",
    "                    real_target=Variable(torch.ones(input_img.size(0), 1, patch_dim[0], patch_dim[1]).to(device))\n",
    "                    fake_target=Variable(torch.zeros(input_img.size(0), 1, patch_dim[0], patch_dim[1]).to(device))\n",
    "                    #generator forward pass\n",
    "                    generated_image=generator(input_img)\n",
    "                    #train discriminator with fake/generated images\n",
    "                    disc_inp_fake=torch.cat((input_img, generated_image), 1)\n",
    "                    D_fake=discriminator(disc_inp_fake.detach())\n",
    "                    D_fake_loss=discriminator_loss(D_fake, fake_target)\n",
    "                    #train discriminator with real images\n",
    "                    disc_inp_real=torch.cat((input_img, target_img), 1)\n",
    "                    D_real=discriminator(disc_inp_real)\n",
    "                    D_real_loss=discriminator_loss(D_real,  real_target)\n",
    "                    #average discriminator loss\n",
    "                    D_total_loss=(D_real_loss + D_fake_loss)/2\n",
    "                    D_test_loss+=D_total_loss\n",
    "                    #train generator with real labels\n",
    "                    fake_gen=torch.cat((input_img, generated_image), 1)\n",
    "                    G=discriminator(fake_gen)\n",
    "                    G_loss=generator_loss(generated_image, target_img, G, real_target)                                 \n",
    "                    G_test_loss+=G_loss\n",
    "                G_test_losses.append(G_test_loss.detach().cpu().numpy()/num_batch)\n",
    "                D_test_losses.append(D_test_loss.detach().cpu().numpy()/num_batch)\n",
    "                print(f\"Epoch {epoch} - G loss: {G_test_loss/num_batch}, D loss: {D_test_loss/num_batch}\")\n",
    "        #===========================\n",
    "    if test_dl!=None:\n",
    "        return (G_train_losses, D_train_losses), (G_test_losses, D_test_losses)  \n",
    "    else:\n",
    "        return (G_train_losses, D_train_losses)"
   ]
  },
  {
   "cell_type": "code",
   "execution_count": 12,
   "id": "7db1d71a",
   "metadata": {},
   "outputs": [
    {
     "name": "stdout",
     "output_type": "stream",
     "text": [
      "Epoch 1 - G loss: 0.1267463117837906, D loss: 0.0025457474403083324, Time: 9.655233144760132\n",
      "Epoch 1 - G loss: 2.519608497619629, D loss: 0.04124068468809128\n",
      "Epoch 2 - G loss: 0.07558244466781616, D loss: 0.0019425724167376757, Time: 7.745206594467163\n",
      "Epoch 2 - G loss: 1.8479337692260742, D loss: 0.04596154764294624\n",
      "Epoch 3 - G loss: 0.10073165595531464, D loss: 0.001331311883404851, Time: 7.665757894515991\n",
      "Epoch 3 - G loss: 1.8949083089828491, D loss: 0.03571808710694313\n",
      "Epoch 4 - G loss: 0.11195908486843109, D loss: 0.0005216829595156014, Time: 7.574885129928589\n",
      "Epoch 4 - G loss: 1.7005436420440674, D loss: 0.04198713228106499\n",
      "Epoch 5 - G loss: 0.1088361144065857, D loss: 0.0001905750104924664, Time: 7.594177722930908\n",
      "Epoch 5 - G loss: 1.9704562425613403, D loss: 0.07780814915895462\n",
      "Epoch 6 - G loss: 0.11158282309770584, D loss: 8.655177225591615e-05, Time: 8.325144529342651\n",
      "Epoch 6 - G loss: 1.8266716003417969, D loss: 0.06765774637460709\n",
      "Epoch 7 - G loss: 0.11268855631351471, D loss: 4.6500044845743105e-05, Time: 8.444313049316406\n",
      "Epoch 7 - G loss: 1.8621625900268555, D loss: 0.05524730682373047\n",
      "Epoch 8 - G loss: 0.10097707808017731, D loss: 3.36338380293455e-05, Time: 8.261586904525757\n",
      "Epoch 8 - G loss: 2.0643646717071533, D loss: 0.015703631564974785\n",
      "Epoch 9 - G loss: 0.10345105081796646, D loss: 2.105781459249556e-05, Time: 8.30852723121643\n",
      "Epoch 9 - G loss: 2.0299599170684814, D loss: 0.015964971855282784\n",
      "Epoch 10 - G loss: 0.08542302250862122, D loss: 2.0833218513871543e-05, Time: 8.265870332717896\n",
      "Epoch 10 - G loss: 1.8289546966552734, D loss: 0.01639575883746147\n",
      "Epoch 11 - G loss: 0.13814930617809296, D loss: 1.2278310350666288e-05, Time: 8.40157437324524\n",
      "Epoch 11 - G loss: 2.0602779388427734, D loss: 0.024055255576968193\n",
      "Epoch 12 - G loss: 0.10573311150074005, D loss: 1.2680171494139358e-05, Time: 8.262049198150635\n",
      "Epoch 12 - G loss: 1.8200253248214722, D loss: 0.022698331624269485\n",
      "Epoch 13 - G loss: 0.13685348629951477, D loss: 1.044731106958352e-05, Time: 8.454801321029663\n",
      "Epoch 13 - G loss: 1.9739384651184082, D loss: 0.027621684595942497\n",
      "Epoch 14 - G loss: 0.1738424003124237, D loss: 1.2944171430717688e-05, Time: 8.289054155349731\n",
      "Epoch 14 - G loss: 1.8239725828170776, D loss: 0.03137989714741707\n",
      "Epoch 15 - G loss: 0.08701477944850922, D loss: 1.4186853150022216e-05, Time: 8.30200481414795\n",
      "Epoch 15 - G loss: 1.9793710708618164, D loss: 0.026453590020537376\n",
      "Epoch 16 - G loss: 0.1325637400150299, D loss: 5.9512040024856105e-06, Time: 8.264973640441895\n",
      "Epoch 16 - G loss: 1.806894063949585, D loss: 0.0284506157040596\n",
      "Epoch 17 - G loss: 0.08987797796726227, D loss: 7.929672392492648e-06, Time: 8.293061256408691\n",
      "Epoch 17 - G loss: 1.9264780282974243, D loss: 0.025979110971093178\n",
      "Epoch 18 - G loss: 0.11029504984617233, D loss: 6.618577572226059e-06, Time: 8.290939331054688\n",
      "Epoch 18 - G loss: 1.8679951429367065, D loss: 0.027782822027802467\n",
      "Epoch 19 - G loss: 0.1182597428560257, D loss: 5.191522632230772e-06, Time: 8.274489879608154\n",
      "Epoch 19 - G loss: 1.7019227743148804, D loss: 0.03081212006509304\n",
      "Epoch 20 - G loss: 0.12049879133701324, D loss: 5.286618034006096e-06, Time: 8.324994802474976\n",
      "Epoch 20 - G loss: 2.021441698074341, D loss: 0.024872545152902603\n",
      "Epoch 21 - G loss: 0.12999795377254486, D loss: 5.290403350954875e-06, Time: 8.288362264633179\n",
      "Epoch 21 - G loss: 1.7414627075195312, D loss: 0.028019115328788757\n",
      "Epoch 22 - G loss: 0.13709333539009094, D loss: 1.40344354804256e-05, Time: 8.322783470153809\n",
      "Epoch 22 - G loss: 1.8974543809890747, D loss: 0.03678951784968376\n",
      "Epoch 23 - G loss: 0.09441851824522018, D loss: 0.0012863236479461193, Time: 8.315479040145874\n",
      "Epoch 23 - G loss: 2.4190120697021484, D loss: 0.010459305718541145\n",
      "Epoch 24 - G loss: 0.0993690937757492, D loss: 0.0002681847254280001, Time: 8.433186054229736\n",
      "Epoch 24 - G loss: 2.6439595222473145, D loss: 0.05911978334188461\n",
      "Epoch 25 - G loss: 0.10367089509963989, D loss: 0.00010408322123112157, Time: 8.295084238052368\n",
      "Epoch 25 - G loss: 2.0743210315704346, D loss: 0.06158604845404625\n",
      "Epoch 26 - G loss: 0.12421006709337234, D loss: 0.0038214584346860647, Time: 8.303738594055176\n",
      "Epoch 26 - G loss: 2.206369638442993, D loss: 0.030262138694524765\n",
      "Epoch 27 - G loss: 0.10881412774324417, D loss: 0.0007955681649036705, Time: 8.433001041412354\n",
      "Epoch 27 - G loss: 4.067288398742676, D loss: 0.07339418679475784\n",
      "Epoch 28 - G loss: 0.10799401253461838, D loss: 0.0018966972129419446, Time: 8.31757402420044\n",
      "Epoch 28 - G loss: 3.157832384109497, D loss: 0.028245866298675537\n",
      "Epoch 29 - G loss: 0.11350688338279724, D loss: 0.00034415817935951054, Time: 8.308614730834961\n",
      "Epoch 29 - G loss: 2.0950655937194824, D loss: 0.029197493568062782\n",
      "Epoch 30 - G loss: 0.12449352443218231, D loss: 0.0008734828443266451, Time: 8.385272979736328\n",
      "Epoch 30 - G loss: 2.0726072788238525, D loss: 0.034543875604867935\n",
      "Epoch 31 - G loss: 0.12824036180973053, D loss: 0.0010795395355671644, Time: 8.350736618041992\n",
      "Epoch 31 - G loss: 1.9240658283233643, D loss: 0.04645921289920807\n",
      "Epoch 32 - G loss: 0.1197507455945015, D loss: 0.0012507113860920072, Time: 8.264441728591919\n",
      "Epoch 32 - G loss: 1.9162909984588623, D loss: 0.13964955508708954\n",
      "Epoch 33 - G loss: 0.10673389583826065, D loss: 0.0009847881738096476, Time: 8.33348274230957\n",
      "Epoch 33 - G loss: 3.3375163078308105, D loss: 0.04653344303369522\n",
      "Epoch 34 - G loss: 0.12150629609823227, D loss: 0.00016610890452284366, Time: 8.262173891067505\n",
      "Epoch 34 - G loss: 3.7374560832977295, D loss: 0.03165740147233009\n",
      "Epoch 35 - G loss: 0.14217282831668854, D loss: 0.0002652647963259369, Time: 8.239347219467163\n",
      "Epoch 35 - G loss: 4.046441555023193, D loss: 0.0709012821316719\n",
      "Epoch 36 - G loss: 0.13507859408855438, D loss: 0.0022623646073043346, Time: 8.218408107757568\n",
      "Epoch 36 - G loss: 3.5332555770874023, D loss: 0.03533416986465454\n",
      "Epoch 37 - G loss: 0.1213214099407196, D loss: 0.0020565178710967302, Time: 8.157949924468994\n",
      "Epoch 37 - G loss: 3.0258917808532715, D loss: 0.07389441132545471\n",
      "Epoch 38 - G loss: 0.12304616719484329, D loss: 0.0004222895950078964, Time: 8.0426025390625\n",
      "Epoch 38 - G loss: 1.6872873306274414, D loss: 0.0404999740421772\n",
      "Epoch 39 - G loss: 0.11007275432348251, D loss: 0.0006035435362718999, Time: 8.304929733276367\n",
      "Epoch 39 - G loss: 1.9231160879135132, D loss: 0.04313739016652107\n",
      "Epoch 40 - G loss: 0.1046430766582489, D loss: 0.0041693709790706635, Time: 8.494845151901245\n",
      "Epoch 40 - G loss: 1.7756539583206177, D loss: 0.04646463319659233\n",
      "Epoch 41 - G loss: 0.1298748403787613, D loss: 0.0014486286090686917, Time: 8.1976318359375\n",
      "Epoch 41 - G loss: 2.132878541946411, D loss: 0.07741017639636993\n",
      "Epoch 42 - G loss: 0.0922769084572792, D loss: 0.0006376608507707715, Time: 8.486314535140991\n",
      "Epoch 42 - G loss: 1.9276565313339233, D loss: 0.025694364681839943\n",
      "Epoch 43 - G loss: 0.10433873534202576, D loss: 0.00019673256610985845, Time: 8.107869148254395\n",
      "Epoch 43 - G loss: 2.406529188156128, D loss: 0.027496332302689552\n",
      "Epoch 44 - G loss: 0.11630862951278687, D loss: 0.0002132482622982934, Time: 8.151240348815918\n",
      "Epoch 44 - G loss: 1.8953900337219238, D loss: 0.05083868280053139\n",
      "Epoch 45 - G loss: 0.11064952611923218, D loss: 0.0014109350740909576, Time: 8.122856855392456\n",
      "Epoch 45 - G loss: 2.5292232036590576, D loss: 0.06595228612422943\n",
      "Epoch 46 - G loss: 0.10051549971103668, D loss: 0.0013512776931747794, Time: 8.063148021697998\n",
      "Epoch 46 - G loss: 3.413156270980835, D loss: 0.15250106155872345\n",
      "Epoch 47 - G loss: 0.16484542191028595, D loss: 0.0005845080013386905, Time: 8.726240873336792\n",
      "Epoch 47 - G loss: 3.2027528285980225, D loss: 0.08092938363552094\n",
      "Epoch 48 - G loss: 0.10280413180589676, D loss: 0.002555219456553459, Time: 8.750919342041016\n",
      "Epoch 48 - G loss: 2.0642142295837402, D loss: 0.04660483077168465\n",
      "Epoch 49 - G loss: 0.10439172387123108, D loss: 0.002295643789693713, Time: 8.768511533737183\n",
      "Epoch 49 - G loss: 2.4892232418060303, D loss: 0.06094050034880638\n",
      "Epoch 50 - G loss: 0.09458760917186737, D loss: 0.006514112465083599, Time: 8.8082754611969\n",
      "Epoch 50 - G loss: 2.25301194190979, D loss: 0.04559110105037689\n"
     ]
    }
   ],
   "source": [
    "outcome=training(model, train_dl, val_dl, lr=0.001)"
   ]
  },
  {
   "cell_type": "code",
   "execution_count": 13,
   "id": "0d506ef8",
   "metadata": {},
   "outputs": [],
   "source": [
    "train_losses, val_losses=outcome"
   ]
  },
  {
   "cell_type": "code",
   "execution_count": 26,
   "id": "73dd0841",
   "metadata": {},
   "outputs": [
    {
     "data": {
      "text/plain": [
       "<matplotlib.legend.Legend at 0x7f11a5786b90>"
      ]
     },
     "execution_count": 26,
     "metadata": {},
     "output_type": "execute_result"
    },
    {
     "data": {
      "image/png": "[encoded data removed]",
      "text/plain": [
       "<Figure size 432x288 with 1 Axes>"
      ]
     },
     "metadata": {
      "needs_background": "light"
     },
     "output_type": "display_data"
    }
   ],
   "source": [
    "import matplotlib.pyplot as plt\n",
    "plt.plot(np.arange(1,51), train_losses[0], label=\"G_train_loss\")\n",
    "plt.plot(np.arange(1,51), val_losses[0], label=\"G_val_loss\")\n",
    "plt.legend(loc='upper left')"
   ]
  },
  {
   "cell_type": "code",
   "execution_count": 27,
   "id": "955bf254",
   "metadata": {},
   "outputs": [
    {
     "data": {
      "text/plain": [
       "<matplotlib.legend.Legend at 0x7f11a57f2d70>"
      ]
     },
     "execution_count": 27,
     "metadata": {},
     "output_type": "execute_result"
    },
    {
     "data": {
      "image/png": "[encoded data removed]",
      "text/plain": [
       "<Figure size 432x288 with 1 Axes>"
      ]
     },
     "metadata": {
      "needs_background": "light"
     },
     "output_type": "display_data"
    }
   ],
   "source": [
    "plt.plot(np.arange(1,51), train_losses[1], label=\"D_train_loss\")\n",
    "plt.plot(np.arange(1,51), val_losses[1], label=\"D_val_loss\")\n",
    "plt.legend(loc='upper left')"
   ]
  },
  {
   "cell_type": "code",
   "execution_count": 28,
   "id": "9b1672e6",
   "metadata": {},
   "outputs": [
    {
     "data": {
      "text/plain": [
       "<matplotlib.legend.Legend at 0x7f11a56700d0>"
      ]
     },
     "execution_count": 28,
     "metadata": {},
     "output_type": "execute_result"
    },
    {
     "data": {
      "image/png": "[encoded data removed]",
      "text/plain": [
       "<Figure size 432x288 with 1 Axes>"
      ]
     },
     "metadata": {
      "needs_background": "light"
     },
     "output_type": "display_data"
    }
   ],
   "source": [
    "plt.plot(np.arange(1,51), train_losses[0], label=\"G_train_loss\")\n",
    "plt.plot(np.arange(1,51), train_losses[1], label=\"D_train_loss\")\n",
    "plt.legend(loc='upper left')"
   ]
  }
 ],
 "metadata": {
  "kernelspec": {
   "display_name": "Python 3 (ipykernel)",
   "language": "python",
   "name": "python3"
  },
  "language_info": {
   "codemirror_mode": {
    "name": "ipython",
    "version": 3
   },
   "file_extension": ".py",
   "mimetype": "text/x-python",
   "name": "python",
   "nbconvert_exporter": "python",
   "pygments_lexer": "ipython3",
   "version": "3.10.5"
  }
 },
 "nbformat": 4,
 "nbformat_minor": 5
}
