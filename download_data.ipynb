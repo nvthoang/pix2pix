{
 "cells": [
  {
   "cell_type": "code",
   "execution_count": 1,
   "id": "c44b2ac1",
   "metadata": {},
   "outputs": [],
   "source": [
    "import logging\n",
    "import os\n",
    "from typing import Optional\n",
    "from boto3.session import Session"
   ]
  },
  {
   "cell_type": "code",
   "execution_count": 2,
   "id": "7fcaf451",
   "metadata": {},
   "outputs": [],
   "source": [
    "def aws_session(\n",
    "    aws_key_env_var: Optional[str] = None, aws_secret_env_var: Optional[str] = None\n",
    ") -> Session:\n",
    "    \"\"\"\n",
    "    Creates an AWS session. Assumes that AWS credentials are stored in environment variables described at the top of\n",
    "    this file. These environment variables are set up as part of our normal AWS server creation process.\n",
    "    \"\"\"\n",
    "    if aws_key_env_var is None or aws_secret_env_var is None:\n",
    "        return Session()\n",
    "    aws_access_key_id = os.environ.get(aws_key_env_var, default=None)\n",
    "    aws_secret_access_key = os.environ.get(aws_secret_env_var, default=None)\n",
    "    if not aws_access_key_id or not aws_secret_access_key:\n",
    "        raise EnvironmentError(\n",
    "            f\"One or both of {aws_key_env_var} and {aws_secret_env_var} are not set.\"\n",
    "        )\n",
    "    return Session(\n",
    "        aws_access_key_id=aws_access_key_id, aws_secret_access_key=aws_secret_access_key\n",
    "    )\n",
    "\n",
    "def download_s3_to_directory(\n",
    "    session: Session,\n",
    "    bucket_name: str,\n",
    "    s3_prefix: str,\n",
    "    file_name: str,\n",
    "    local_directory: str,\n",
    ") -> None:\n",
    "    \"\"\"\n",
    "    Download a file in the given local directory from S3 at a location equal to the s3_prefix + the file name.\n",
    "    Sub-directories within the provided directory are ignored.\n",
    "    :param session: handle to an authenticated AWS session\n",
    "    :param bucket_name: S3 bucket name\n",
    "    :param s3_prefix: S3 prefix of to-be-downloaded file\n",
    "    :param local_directory: download file within this directory\n",
    "    :param file_name\n",
    "    :return: None\n",
    "    \"\"\"\n",
    "    s3 = session.resource(\"s3\")\n",
    "    bucket = s3.Bucket(bucket_name)\n",
    "    logging.info(\n",
    "        f\"Downloading S3 bucket {bucket_name} to local directory {local_directory} with prefix {s3_prefix}\"\n",
    "    )\n",
    "    s3_location = f\"{s3_prefix}/{file_name}\"\n",
    "    local_file_path = f\"{local_directory}/{file_name}\"\n",
    "    bucket.download_file(s3_location, local_file_path)\n",
    "    logging.info(f\"Finished downloading file.\")"
   ]
  },
  {
   "cell_type": "code",
   "execution_count": 3,
   "id": "491b2768",
   "metadata": {},
   "outputs": [],
   "source": [
    "naip_files=os.listdir(\"./data/naip_CA_2020_gridded/\")"
   ]
  },
  {
   "cell_type": "code",
   "execution_count": 4,
   "id": "349c401f",
   "metadata": {},
   "outputs": [],
   "source": [
    "bucket_name = \"vibrant-dragon\"\n",
    "s3_prefix   = \"ca_rasters/naip_CA_2012_gridded\"\n",
    "\n",
    "for naip_file in naip_files:\n",
    "    file_name = naip_file\n",
    "    download_s3_to_directory(session=aws_session(), \n",
    "                             bucket_name=bucket_name, \n",
    "                             s3_prefix=s3_prefix, \n",
    "                             file_name=file_name, \n",
    "                             local_directory=\"data/naip_CA_2012_gridded/\")"
   ]
  },
  {
   "cell_type": "code",
   "execution_count": null,
   "id": "049e4c7e",
   "metadata": {},
   "outputs": [],
   "source": []
  }
 ],
 "metadata": {
  "kernelspec": {
   "display_name": "Python 3 (ipykernel)",
   "language": "python",
   "name": "python3"
  },
  "language_info": {
   "codemirror_mode": {
    "name": "ipython",
    "version": 3
   },
   "file_extension": ".py",
   "mimetype": "text/x-python",
   "name": "python",
   "nbconvert_exporter": "python",
   "pygments_lexer": "ipython3",
   "version": "3.10.5"
  }
 },
 "nbformat": 4,
 "nbformat_minor": 5
}
